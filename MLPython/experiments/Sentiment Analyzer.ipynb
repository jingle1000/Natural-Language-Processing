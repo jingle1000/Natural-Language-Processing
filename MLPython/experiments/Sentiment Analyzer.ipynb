{
 "cells": [
  {
   "cell_type": "code",
   "execution_count": 2,
   "metadata": {},
   "outputs": [],
   "source": [
    "import numpy as np\n",
    "import itertools"
   ]
  },
  {
   "cell_type": "code",
   "execution_count": 3,
   "metadata": {},
   "outputs": [],
   "source": [
    "import nltk\n",
    "# nltk.download()\n",
    "from nltk.stem import WordNetLemmatizer\n",
    "from sklearn.utils import shuffle\n",
    "from sklearn.linear_model import LogisticRegression\n",
    "from bs4 import BeautifulSoup"
   ]
  },
  {
   "cell_type": "code",
   "execution_count": 8,
   "metadata": {},
   "outputs": [],
   "source": [
    "\n",
    "wordnet_lemmatizer = WordNetLemmatizer()\n",
    "\n",
    "stopwords = set(w.rstrip() for w in open(\"stopwords.txt\"))\n",
    "\n",
    "positive_reviews = BeautifulSoup(open(\"./electronics/positive.review\").read())\n",
    "negative_reviews = BeautifulSoup(open(\"./electronics/negative.review\").read())"
   ]
  },
  {
   "cell_type": "code",
   "execution_count": 9,
   "metadata": {},
   "outputs": [],
   "source": [
    "positive_reviews = positive_reviews.findAll(\"review_text\")\n",
    "negative_reviews = negative_reviews.findAll(\"review_text\")"
   ]
  },
  {
   "cell_type": "code",
   "execution_count": 10,
   "metadata": {},
   "outputs": [
    {
     "name": "stdout",
     "output_type": "stream",
     "text": [
      "1000 positive reviews and 1000 negative reviews\n"
     ]
    }
   ],
   "source": [
    "print(f\"{len(positive_reviews)} positive reviews and {len(negative_reviews)} negative reviews\")"
   ]
  },
  {
   "cell_type": "code",
   "execution_count": 11,
   "metadata": {},
   "outputs": [],
   "source": [
    "def tokenizer(text):\n",
    "    text = text.lower()\n",
    "    tokens = nltk.tokenize.word_tokenize(text)\n",
    "    tokens = [t for t in tokens if len(t) > 2]\n",
    "    tokens = [wordnet_lemmatizer.lemmatize(t) for t in tokens]\n",
    "    tokens = [t for t in tokens if t not in stopwords]\n",
    "    return tokens"
   ]
  },
  {
   "cell_type": "code",
   "execution_count": 12,
   "metadata": {},
   "outputs": [],
   "source": [
    "example_review = positive_reviews[0].text"
   ]
  },
  {
   "cell_type": "code",
   "execution_count": 13,
   "metadata": {},
   "outputs": [
    {
     "data": {
      "text/plain": [
       "['purchased',\n",
       " 'this',\n",
       " 'unit',\n",
       " 'due',\n",
       " 'frequent',\n",
       " 'blackout',\n",
       " 'power',\n",
       " 'supply',\n",
       " 'bad',\n",
       " 'run',\n",
       " 'cable',\n",
       " 'modem',\n",
       " 'router',\n",
       " 'lcd',\n",
       " 'monitor',\n",
       " 'minute',\n",
       " 'this',\n",
       " 'time',\n",
       " 'save',\n",
       " 'shut',\n",
       " 'equally',\n",
       " 'electronics',\n",
       " 'receiving',\n",
       " 'clean',\n",
       " 'power',\n",
       " 'feel',\n",
       " 'this',\n",
       " 'investment',\n",
       " 'minor',\n",
       " 'compared',\n",
       " 'loss',\n",
       " 'valuable',\n",
       " 'data',\n",
       " 'failure',\n",
       " 'equipment',\n",
       " 'due',\n",
       " 'power',\n",
       " 'spike',\n",
       " 'irregular',\n",
       " 'power',\n",
       " 'supply',\n",
       " 'amazon',\n",
       " 'business',\n",
       " 'day']"
      ]
     },
     "execution_count": 13,
     "metadata": {},
     "output_type": "execute_result"
    }
   ],
   "source": [
    "tokenizer(example_review)"
   ]
  },
  {
   "cell_type": "code",
   "execution_count": null,
   "metadata": {},
   "outputs": [],
   "source": []
  }
 ],
 "metadata": {
  "kernelspec": {
   "display_name": "Python 3",
   "language": "python",
   "name": "python3"
  },
  "language_info": {
   "codemirror_mode": {
    "name": "ipython",
    "version": 3
   },
   "file_extension": ".py",
   "mimetype": "text/x-python",
   "name": "python",
   "nbconvert_exporter": "python",
   "pygments_lexer": "ipython3",
   "version": "3.7.3"
  }
 },
 "nbformat": 4,
 "nbformat_minor": 2
}
